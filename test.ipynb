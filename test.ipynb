{
 "cells": [
  {
   "cell_type": "code",
   "execution_count": null,
   "metadata": {},
   "outputs": [],
   "source": [
    "import sqlite3\n",
    "import pandas as pd\n",
    "import pathlib\n",
    "\n",
    "# Define the database file in the current root project directory\n",
    "db_file = pathlib.Path(\"project.sqlite3\")\n",
    "\n",
    "def create_database():\n",
    "    \"\"\"Function to create a database. Connecting for the first time\n",
    "    will create a new database file if it doesn't exist yet.\n",
    "    Close the connection after creating the database\n",
    "    to avoid locking the file.\"\"\"\n",
    "    try:\n",
    "        conn = sqlite3.connect(db_file)\n",
    "        conn.close()\n",
    "        print(\"Database created successfully.\")\n",
    "    except sqlite3.Error as e:\n",
    "        print(\"Error creating the database:\", e)\n",
    "\n",
    "def main():\n",
    "    create_database()\n",
    "\n",
    "if __name__ == \"__main__\":\n",
    "    main()"
   ]
  },
  {
   "cell_type": "code",
   "execution_count": 4,
   "metadata": {},
   "outputs": [],
   "source": [
    "def create_tables():\n",
    "    \"\"\"Function to read and execute SQL statements to create tables\"\"\"\n",
    "    try:\n",
    "        with sqlite3.connect(db_file) as conn:\n",
    "            sql_file = pathlib.Path(\"sql\", \"create_tables.sql\")\n",
    "            with open(sql_file, \"r\") as file:\n",
    "                sql_script = file.read()\n",
    "            conn.executescript(sql_script)\n",
    "            print(\"Tables created successfully.\")\n",
    "    except sqlite3.Error as e:\n",
    "        print(\"Error creating tables:\", e)"
   ]
  }
 ],
 "metadata": {
  "kernelspec": {
   "display_name": ".venv",
   "language": "python",
   "name": "python3"
  },
  "language_info": {
   "codemirror_mode": {
    "name": "ipython",
    "version": 3
   },
   "file_extension": ".py",
   "mimetype": "text/x-python",
   "name": "python",
   "nbconvert_exporter": "python",
   "pygments_lexer": "ipython3",
   "version": "3.11.4"
  }
 },
 "nbformat": 4,
 "nbformat_minor": 2
}
